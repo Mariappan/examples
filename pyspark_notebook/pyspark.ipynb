{
 "cells": [
  {
   "cell_type": "code",
   "execution_count": null,
   "metadata": {},
   "outputs": [],
   "source": [
    "from pyspark.sql import SparkSession\n",
    "import pandas as pd\n",
    "import os"
   ]
  },
  {
   "cell_type": "markdown",
   "metadata": {},
   "source": [
    "# Example: read data from Pandas into PySpark"
   ]
  },
  {
   "cell_type": "code",
   "execution_count": null,
   "metadata": {},
   "outputs": [],
   "source": [
    "spark = (\n",
    "    SparkSession\n",
    "    .builder\n",
    "    .config(\"spark.app.name\", \"spark-python\")\n",
    "    .config(\"spark.executor.instances\", \"2\")\n",
    "    .getOrCreate()\n",
    ")\n",
    "\n",
    "pdf = pd.read_csv(\"data/iris.csv\")\n",
    "df = spark.createDataFrame(pdf)\n",
    "df.show()"
   ]
  },
  {
   "cell_type": "markdown",
   "metadata": {},
   "source": [
    "# Example: read csv data from s3 into PySpark"
   ]
  },
  {
   "cell_type": "code",
   "execution_count": null,
   "metadata": {},
   "outputs": [],
   "source": [
    "# Ensure that s3fs is installed first\n",
    "%%bash\n",
    "pip install --user s3fs==0.5.2"
   ]
  },
  {
   "cell_type": "code",
   "execution_count": null,
   "metadata": {},
   "outputs": [],
   "source": [
    "# This runs out of the box only for notebooks running in a AWS environment\n",
    "spark = (\n",
    "    SparkSession\n",
    "    .builder\n",
    "    .config(\"spark.app.name\", \"spark-python\")\n",
    "    .config(\"spark.executor.instances\", \"2\")\n",
    "    .config(\"fs.s3a.aws.credentials.provider\", \"org.apache.hadoop.fs.s3a.AnonymousAWSCredentialsProvider\")\n",
    "    .config(\"spark.hadoop.fs.s3a.endpoint\", \"s3.us-east-1.amazonaws.com\")\n",
    "    .getOrCreate()\n",
    ")\n",
    "df2 = spark.read.csv(\"s3a://gdelt-open-data/v2/events/20151230134500.export.csv\")\n",
    "df2.show()"
   ]
  },
  {
   "cell_type": "markdown",
   "metadata": {},
   "source": [
    "# Example: read csv data from GCP GS into PySpark"
   ]
  },
  {
   "cell_type": "code",
   "execution_count": null,
   "metadata": {},
   "outputs": [],
   "source": [
    "# This runs out of the box only for notebooks running in a GCP environment\n",
    "spark = (\n",
    "    SparkSession\n",
    "    .builder\n",
    "    .config(\"spark.app.name\", \"spark-python\")\n",
    "    .config(\"spark.executor.instances\", \"2\")\n",
    "    .getOrCreate()\n",
    ")\n",
    "df3 = spark.read.csv(\"gs://gcp-public-data-landsat/index.csv.gz\", header=True)\n",
    "df3.show()"
   ]
  }
 ],
 "metadata": {
  "kernelspec": {
   "display_name": "Python 3",
   "language": "python",
   "name": "python3"
  },
  "language_info": {
   "codemirror_mode": {
    "name": "ipython",
    "version": 3
   },
   "file_extension": ".py",
   "mimetype": "text/x-python",
   "name": "python",
   "nbconvert_exporter": "python",
   "pygments_lexer": "ipython3",
   "version": "3.8.5"
  }
 },
 "nbformat": 4,
 "nbformat_minor": 4
}
